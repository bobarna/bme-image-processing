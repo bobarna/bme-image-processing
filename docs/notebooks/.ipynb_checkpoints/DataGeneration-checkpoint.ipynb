{
 "cells": [
  {
   "cell_type": "code",
   "execution_count": 13,
   "id": "6d00f70b",
   "metadata": {
    "scrolled": false
   },
   "outputs": [
    {
     "name": "stderr",
     "output_type": "stream",
     "text": [
      "[ WARN:0@37.739] global /io/opencv/modules/imgcodecs/src/loadsave.cpp (239) findDecoder imread_('testimg.jpg'): can't open/read file: check file path/integrity\n"
     ]
    },
    {
     "ename": "error",
     "evalue": "OpenCV(4.6.0) /io/opencv/modules/imgproc/src/color.cpp:182: error: (-215:Assertion failed) !_src.empty() in function 'cvtColor'\n",
     "output_type": "error",
     "traceback": [
      "\u001b[0;31m---------------------------------------------------------------------------\u001b[0m",
      "\u001b[0;31merror\u001b[0m                                     Traceback (most recent call last)",
      "Cell \u001b[0;32mIn [13], line 37\u001b[0m\n\u001b[1;32m     34\u001b[0m cv2\u001b[38;5;241m.\u001b[39mdestroyAllWindows() \n\u001b[1;32m     36\u001b[0m img \u001b[38;5;241m=\u001b[39m cv2\u001b[38;5;241m.\u001b[39mimread(\u001b[38;5;124m'\u001b[39m\u001b[38;5;124mtestimg.jpg\u001b[39m\u001b[38;5;124m'\u001b[39m,cv2\u001b[38;5;241m.\u001b[39mIMREAD_COLOR)\n\u001b[0;32m---> 37\u001b[0m img2 \u001b[38;5;241m=\u001b[39m \u001b[43mcv2\u001b[49m\u001b[38;5;241;43m.\u001b[39;49m\u001b[43mcvtColor\u001b[49m\u001b[43m(\u001b[49m\u001b[43mimg\u001b[49m\u001b[43m,\u001b[49m\u001b[43m \u001b[49m\u001b[43mcv2\u001b[49m\u001b[38;5;241;43m.\u001b[39;49m\u001b[43mCOLOR_BGR2RGB\u001b[49m\u001b[43m)\u001b[49m\n\u001b[1;32m     39\u001b[0m img_rained \u001b[38;5;241m=\u001b[39m add_rain(img, \u001b[38;5;28;01mTrue\u001b[39;00m, \u001b[38;5;241m4500\u001b[39m)\n\u001b[1;32m     41\u001b[0m plt\u001b[38;5;241m.\u001b[39mimshow(img_rained)\n",
      "\u001b[0;31merror\u001b[0m: OpenCV(4.6.0) /io/opencv/modules/imgproc/src/color.cpp:182: error: (-215:Assertion failed) !_src.empty() in function 'cvtColor'\n"
     ]
    }
   ],
   "source": [
    "##RAIN\n",
    "\n",
    "import cv2\n",
    "import numpy as np\n",
    "from matplotlib import pyplot as plt\n",
    "\n",
    "def generate_random_lines(imshape,slant,drop_length,drop_num):    \n",
    "    drops=[]    \n",
    "    for i in range(drop_num): ## If You want heavy rain, try increasing this        \n",
    "        if slant<0:            \n",
    "            x= np.random.randint(slant,imshape[1])        \n",
    "        else:            \n",
    "            x= np.random.randint(0,imshape[1]-slant)        \n",
    "        y= np.random.randint(0,imshape[0]-drop_length)        \n",
    "        drops.append((x,y))    \n",
    "        \n",
    "    return drops\n",
    "\n",
    "def add_rain(image, blur, drop_num):        \n",
    "    imshape = image.shape    \n",
    "    slant_extreme=10    \n",
    "    slant= np.random.randint(-slant_extreme,slant_extreme)     \n",
    "    drop_length=20    \n",
    "    drop_width=2    \n",
    "    drop_color=(200,200,200) ## a shade of gray    \n",
    "    rain_drops= generate_random_lines(imshape,slant,drop_length,drop_num)        \n",
    "    for rain_drop in rain_drops:        \n",
    "        cv2.line(image,(rain_drop[0],rain_drop[1]),(rain_drop[0]+slant,rain_drop[1]+drop_length),drop_color,drop_width)    \n",
    "    if blur:\n",
    "        for i in range(2):\n",
    "            image = cv2.GaussianBlur(image,(11,11),0) \n",
    "    return image\n",
    "\n",
    "cv2.destroyAllWindows() \n",
    "\n",
    "img = cv2.imread('testimg.jpg',cv2.IMREAD_COLOR)\n",
    "img2 = cv2.cvtColor(img, cv2.COLOR_BGR2RGB)\n",
    "\n",
    "img_rained = add_rain(img, True, 4500)\n",
    "\n",
    "plt.imshow(img_rained)\n",
    "\n",
    "cv2.imwrite(\"testimg_heavy_rained.jpg\", img_rained)\n",
    "\n",
    "#cv2.imshow(\"Rained\", img_rained)\n",
    "  \n",
    "#waits for user to press any key \n",
    "#(this is necessary to avoid Python kernel form crashing)\n",
    "#cv2.waitKey(0) \n",
    "  \n",
    "#closing all open windows \n",
    "#cv2.destroyAllWindows() "
   ]
  },
  {
   "cell_type": "code",
   "execution_count": null,
   "id": "7d4ad1bf",
   "metadata": {},
   "outputs": [],
   "source": [
    "##SNOW\n",
    "\n",
    "import cv2\n",
    "import numpy as np\n",
    "from matplotlib import pyplot as plt\n",
    "\n",
    "def add_snow(image):\n",
    "    image_HLS = cv2.cvtColor(image,cv2.COLOR_RGB2HLS) ## Conversion to HLS\n",
    "    image_HLS = np.array(image_HLS, dtype = np.float64)\n",
    "    brightness_coefficient = 2.5\n",
    "    snow_point=140 ## increase this for more snow\n",
    "    image_HLS[:,:,1][image_HLS[:,:,1]<snow_point] = image_HLS[:,:,1][image_HLS[:,:,1]<snow_point]*brightness_coefficient ## scale pixel values up for channel 1(Lightness)\n",
    "    image_HLS[:,:,1][image_HLS[:,:,1]>255]  = 255 ##Sets all values above 255 to 255\n",
    "    image_HLS = np.array(image_HLS, dtype = np.uint8)\n",
    "    image_RGB = cv2.cvtColor(image_HLS,cv2.COLOR_HLS2RGB) ## Conversion to RGB    \n",
    "    return image_RGB\n",
    "\n",
    "img = cv2.imread('testimg.jpg',cv2.IMREAD_COLOR)\n",
    "img2 = cv2.cvtColor(img, cv2.COLOR_BGR2RGB)\n",
    "\n",
    "img_rained = add_snow(img)\n",
    "\n",
    "plt.imshow(img_rained)\n",
    "\n",
    "cv2.imwrite(\"testimg_snow.jpg\", img_rained)"
   ]
  },
  {
   "cell_type": "code",
   "execution_count": null,
   "id": "ddd1123b",
   "metadata": {},
   "outputs": [],
   "source": [
    "##SUNNY\n",
    "\n",
    "import cv2\n",
    "import numpy as np\n",
    "from matplotlib import pyplot as plt\n",
    "\n",
    "def add_brightness(image):    \n",
    "    image_HLS = cv2.cvtColor(image,cv2.COLOR_RGB2HLS) ## Conversion to HLS\n",
    "    image_HLS = np.array(image_HLS, dtype = np.float64)\n",
    "    random_brightness_coefficient = np.random.uniform()+2.0 ## generates value between 0.5 and 1.5\n",
    "    image_HLS[:,:,1] = image_HLS[:,:,1]*random_brightness_coefficient ## scale pixel values up or down for channel 1(Lightness)\n",
    "    image_HLS[:,:,1][image_HLS[:,:,1]>255]  = 255 ##Sets all values above 255 to 255    \n",
    "    image_HLS = np.array(image_HLS, dtype = np.uint8)    \n",
    "    image_RGB = cv2.cvtColor(image_HLS,cv2.COLOR_HLS2RGB) ## Conversion to RGB    \n",
    "    return image_RGB\n",
    "    \n",
    "img = cv2.imread('testimg.jpg',cv2.IMREAD_COLOR)\n",
    "img2 = cv2.cvtColor(img, cv2.COLOR_BGR2RGB)\n",
    "\n",
    "img_rained = add_brightness(img)\n",
    "\n",
    "plt.imshow(img_rained)\n",
    "\n",
    "cv2.imwrite(\"testimg_sunny.jpg\", img_rained)"
   ]
  },
  {
   "cell_type": "code",
   "execution_count": null,
   "id": "5b0b4234",
   "metadata": {},
   "outputs": [],
   "source": [
    "##SHADOWS\n",
    "\n",
    "import cv2\n",
    "import numpy as np\n",
    "from matplotlib import pyplot as plt\n",
    "\n",
    "def generate_shadow_coordinates(imshape, no_of_shadows=1):\n",
    "    vertices_list=[]\n",
    "    for index in range(no_of_shadows):\n",
    "        vertex=[]\n",
    "        for dimensions in range(np.random.randint(3,9)): ## Dimensionality of the shadow polygon\n",
    "            vertex.append(( imshape[1]*np.random.uniform(),imshape[0]//15+imshape[0]*np.random.uniform()))\n",
    "            vertices = np.array([vertex], dtype=np.int32) ## single shadow vertices\n",
    "            vertices_list.append(vertices)\n",
    "    return vertices_list ## List of shadow vertices\n",
    "        \n",
    "def add_shadow(image,no_of_shadows=1):\n",
    "    image_HLS = cv2.cvtColor(image,cv2.COLOR_RGB2HLS) ## Conversion to HLS\n",
    "    mask = np.zeros_like(image)\n",
    "    imshape = image.shape\n",
    "    vertices_list= generate_shadow_coordinates(imshape, no_of_shadows) #3 getting list of shadow vertices\n",
    "    for vertices in vertices_list:\n",
    "        cv2.fillPoly(mask, vertices, 255) ## adding all shadow polygons on empty mask, single 255 denotes only red channel\n",
    "        image_HLS[:,:,1][mask[:,:,0]==255] = image_HLS[:,:,1][mask[:,:,0]==255]*0.7  ## if red channel is hot, image's \"Lightness\" channel's brightness is lowered\n",
    "    image_RGB = cv2.cvtColor(image_HLS,cv2.COLOR_HLS2RGB) ## Conversion to RGB\n",
    "    return image_RGB\n",
    "    \n",
    "img = cv2.imread('testimg.jpg',cv2.IMREAD_COLOR)\n",
    "img2 = cv2.cvtColor(img, cv2.COLOR_BGR2RGB)\n",
    "\n",
    "img_rained = add_shadow(img)\n",
    "\n",
    "plt.imshow(img_rained)\n",
    "\n",
    "cv2.imwrite(\"testimg_shadow.jpg\", img_rained)"
   ]
  },
  {
   "cell_type": "code",
   "execution_count": 14,
   "id": "c9a119c4",
   "metadata": {},
   "outputs": [
    {
     "name": "stderr",
     "output_type": "stream",
     "text": [
      "[ WARN:0@49.515] global /io/opencv/modules/imgcodecs/src/loadsave.cpp (239) findDecoder imread_('testimg.jpg'): can't open/read file: check file path/integrity\n"
     ]
    },
    {
     "ename": "error",
     "evalue": "OpenCV(4.6.0) /io/opencv/modules/imgproc/src/color.cpp:182: error: (-215:Assertion failed) !_src.empty() in function 'cvtColor'\n",
     "output_type": "error",
     "traceback": [
      "\u001b[0;31m---------------------------------------------------------------------------\u001b[0m",
      "\u001b[0;31merror\u001b[0m                                     Traceback (most recent call last)",
      "Cell \u001b[0;32mIn [14], line 9\u001b[0m\n\u001b[1;32m      7\u001b[0m \u001b[38;5;28;01mfor\u001b[39;00m file \u001b[38;5;129;01min\u001b[39;00m dir_list:\n\u001b[1;32m      8\u001b[0m     img \u001b[38;5;241m=\u001b[39m cv2\u001b[38;5;241m.\u001b[39mimread(\u001b[38;5;124m'\u001b[39m\u001b[38;5;124mtestimg.jpg\u001b[39m\u001b[38;5;124m'\u001b[39m,cv2\u001b[38;5;241m.\u001b[39mIMREAD_COLOR)\n\u001b[0;32m----> 9\u001b[0m     img2 \u001b[38;5;241m=\u001b[39m \u001b[43mcv2\u001b[49m\u001b[38;5;241;43m.\u001b[39;49m\u001b[43mcvtColor\u001b[49m\u001b[43m(\u001b[49m\u001b[43mimg\u001b[49m\u001b[43m,\u001b[49m\u001b[43m \u001b[49m\u001b[43mcv2\u001b[49m\u001b[38;5;241;43m.\u001b[39;49m\u001b[43mCOLOR_BGR2RGB\u001b[49m\u001b[43m)\u001b[49m\n\u001b[1;32m     11\u001b[0m     img_rained \u001b[38;5;241m=\u001b[39m add_rain(img, \u001b[38;5;28;01mTrue\u001b[39;00m, \u001b[38;5;241m1500\u001b[39m)\n\u001b[1;32m     14\u001b[0m     plt\u001b[38;5;241m.\u001b[39mimshow(img_rained)\n",
      "\u001b[0;31merror\u001b[0m: OpenCV(4.6.0) /io/opencv/modules/imgproc/src/color.cpp:182: error: (-215:Assertion failed) !_src.empty() in function 'cvtColor'\n"
     ]
    }
   ],
   "source": [
    "# import OS module\n",
    "import os\n",
    "# Get the list of all files and directories\n",
    "path = \"/home/bence/BME/Képfeldolgozás/images\"\n",
    "dir_list = os.listdir(path)\n",
    "\n",
    "for file in dir_list:\n",
    "    img = cv2.imread(file,cv2.IMREAD_COLOR)\n",
    "    img2 = cv2.cvtColor(img, cv2.COLOR_BGR2RGB)\n",
    "\n",
    "    img_rained = add_rain(img, True, 1500)\n",
    "\n",
    "\n",
    "    plt.imshow(img_rained)\n",
    "\n",
    "    cv2.imwrite(file, img_rained)"
   ]
  },
  {
   "cell_type": "code",
   "execution_count": null,
   "id": "b2dbf2f6",
   "metadata": {},
   "outputs": [],
   "source": []
  }
 ],
 "metadata": {
  "kernelspec": {
   "display_name": "Python 3 (ipykernel)",
   "language": "python",
   "name": "python3"
  },
  "language_info": {
   "codemirror_mode": {
    "name": "ipython",
    "version": 3
   },
   "file_extension": ".py",
   "mimetype": "text/x-python",
   "name": "python",
   "nbconvert_exporter": "python",
   "pygments_lexer": "ipython3",
   "version": "3.8.10"
  },
  "vscode": {
   "interpreter": {
    "hash": "916dbcbb3f70747c44a77c7bcd40155683ae19c65e1c03b4aa3499c5328201f1"
   }
  }
 },
 "nbformat": 4,
 "nbformat_minor": 5
}
