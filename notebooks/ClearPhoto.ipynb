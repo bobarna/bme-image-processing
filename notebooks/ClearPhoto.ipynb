{
 "cells": [
  {
   "cell_type": "code",
   "execution_count": 1,
   "execution_count": 18,
   "id": "dea520d7",
   "metadata": {},
   "outputs": [],
   "source": [
    "import cv2\n",
    "import numpy as np\n",
    "\n",
    "image = cv2.imread('testimg_ligth_rained.jpg', 1)\n",
    "\n",
    "kernel = np.array([[-1, -1, -1],\n",
    "                   [-1, 9, -1],\n",
    "                   [-1, -1, -1]])\n",
    "\n",
    "image2 = cv2.filter2D(image,-1,kernel)\n",
    "\n",
    "cv2.imshow('Original', image)\n",
    "cv2.imshow('Result', image2)\n",
    "cv2.waitKey()\n",
    "cv2.destroyAllWindows()"
   ]
  },
  {
   "cell_type": "code",
   "execution_count": 33,
   "id": "3589edea",
   "metadata": {},
   "outputs": [],
   "source": [
    "import cv2\n",
    "import numpy as np\n",
    "# import OS module\n",
    "import os\n",
    "\n",
    "\n",
    "\n",
    "def deskew(image):\n",
    "    co_ords = np.column_stack(np.where(image > 0))\n",
    "    angle = cv2.minAreaRect(co_ords)[-1]\n",
    "    if angle < 45:\n",
    "        angle = (90 + angle)\n",
    "    else:\n",
    "        angle = -angle\n",
    "    (h, w) = image.shape[:2]\n",
    "    center = (w // 2, h // 2)\n",
    "    M = cv2.getRotationMatrix2D(center, angle, 1.0)\n",
    "    rotated = cv2.warpAffine(image, M, (w, h), flags=cv2.INTER_CUBIC,\n",
    "    borderMode=cv2.BORDER_REPLICATE)\n",
    "    return rotated\n",
    "\n",
    "\n",
    "\n",
    "def remove_noise(image):\n",
    "    return cv2.fastNlMeansDenoisingColored(image, None, 10, 10, 7, 15)\n",
    "\n",
    "\n",
    "\n",
    "def get_grayscale(image):\n",
    "    return cv2.cvtColor(image, cv2.COLOR_BGR2GRAY)\n",
    "\n",
    "\n",
    "\n",
    "def thresholding(image):\n",
    "    return cv2.threshold(image, 0, 255, cv2.THRESH_BINARY + cv2.THRESH_OTSU)[1]\n",
    "\n",
    "def clear(img):\n",
    "    norm_img = np.zeros((img.shape[0], img.shape[1]))\n",
    "    img = cv2.normalize(img, norm_img, 0, 255, cv2.NORM_MINMAX)\n",
    "    img = remove_noise(img)\n",
    "\n",
    "    kernel = np.ones((3,3),np.uint8)\n",
    "\n",
    "    kernel = np.array([[-1, -1, -1],\n",
    "                       [-1, 9, -1],\n",
    "                       [-1, -1, -1]])\n",
    "\n",
    "    image2 = get_grayscale(img)\n",
    "    image2 = cv2.erode(image2, kernel, iterations = 1)\n",
    "    image2 = cv2.filter2D(image2,-1,kernel)\n",
    "    image2 = thresholding(image2)\n",
    "    \n",
    "    return image2"
   ]
  },
  {
   "cell_type": "code",
   "execution_count": 34,
   "id": "c0d46a33",
   "metadata": {},
   "outputs": [],
   "source": [
    "img = cv2.imread('10_18698937.jpg', cv2.IMREAD_COLOR)\n",
    "img2 = clear(img)\n",
    "\n",
    "cv2.imshow('Original', img)\n",
    "cv2.imshow('Result', img2)\n",
    "cv2.waitKey()\n",
    "cv2.destroyAllWindows()\n"
   ]
  },
  {
   "cell_type": "code",
   "execution_count": 16,
   "id": "1459144a",
   "metadata": {},
   "outputs": [],
   "source": [
    "# Get the list of all files and directories\n",
    "pathin = \"/home/bence/BME/Képfeldolgozás/cutouts/\"\n",
    "pathout = \"/home/bence/BME/Képfeldolgozás/cutouts_pretty/\"\n",
    "dir_list = os.listdir(pathin)\n",
    "\n",
    "for file in dir_list:\n",
    "    img = cv2.imread(pathin + file, cv2.IMREAD_COLOR)\n",
    "    img2 = cv2.cvtColor(img, cv2.COLOR_BGR2RGB)\n",
    "    img_cleared = clear(img)\n",
    "    cv2.imwrite(pathout + file, img_cleared)"
   ]
  },
  {
   "cell_type": "code",
   "execution_count": null,
   "id": "3de806b6",
   "metadata": {},
   "outputs": [],
   "source": []
  }
 ],
 "metadata": {
  "kernelspec": {
   "display_name": "Python 3 (ipykernel)",
   "language": "python",
   "name": "python3"
  },
  "language_info": {
   "codemirror_mode": {
    "name": "ipython",
    "version": 3
   },
   "file_extension": ".py",
   "mimetype": "text/x-python",
   "name": "python",
   "nbconvert_exporter": "python",
   "pygments_lexer": "ipython3",
   "version": "3.8.10"
  }
 },
 "nbformat": 4,
 "nbformat_minor": 5
}
